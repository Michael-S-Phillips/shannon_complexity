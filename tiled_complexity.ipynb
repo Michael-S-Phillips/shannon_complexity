{
 "cells": [
  {
   "cell_type": "markdown",
   "metadata": {},
   "source": [
    "# Process large images via tiling approach"
   ]
  },
  {
   "cell_type": "code",
   "execution_count": 7,
   "metadata": {},
   "outputs": [
    {
     "name": "stdout",
     "output_type": "stream",
     "text": [
      "Image dimensions: 1256x980\n",
      "Processing 1 tiles in batches of 3\n",
      "Using 24 CPU workers for processing.\n",
      "Processing batch 1/1 (1 tiles)\n"
     ]
    },
    {
     "name": "stderr",
     "output_type": "stream",
     "text": [
      "Processing tiles: 100%|██████████| 1/1 [27:09<00:00, 1629.75s/it]\n"
     ]
    }
   ],
   "source": [
    "from importlib import reload\n",
    "import tiled_complexity\n",
    "reload(tiled_complexity)\n",
    "from tiled_complexity import tiledComplexity\n",
    "\n",
    "# base_img_path = '/mnt/nili_e/Software/fractal_complexity/data/Jezero_HiRISE_clipped.tif'\n",
    "# out_dir = '/mnt/nili_e/Software/fractal_complexity/data/Jezero_HiRISE_complexity_tiles/'\n",
    "\n",
    "# base_img_path = '/mnt/holuhraun/t5_dsm_2015_50cm_clip.tif'\n",
    "# out_dir = '/mnt/holuhraun/t5_dsm_50cm_complexity_tiles/'\n",
    "\n",
    "base_img_path = '/mnt/fagradalsfjall/sites_abc_clip.tif'\n",
    "out_dir = '/mnt/fagradalsfjall/sites_abc_clip_complexity/'\n",
    "\n",
    "kernel_sizes = [3, 4, 5, 7, 9, 11, 15, 19, 25, 31, 43, 55, 75]  \n",
    "\n",
    "# Define tile size and overlap\n",
    "tile_size = 2048\n",
    "overlap = max(int(tile_size * 0.1), max(kernel_sizes))  # 10% overlap\n",
    "\n",
    "tc_processor = tiledComplexity(base_img_path, tile_size, overlap, kernel_sizes, out_dir=out_dir, crop=True)\n",
    "# tc_processor.visualize_tiles() \n",
    "tc_processor.process()"
   ]
  },
  {
   "cell_type": "code",
   "execution_count": 6,
   "metadata": {},
   "outputs": [
    {
     "name": "stdout",
     "output_type": "stream",
     "text": [
      "Found 240 tile files to merge\n",
      "Processing tiles in batches of 198 to fit within 4GB memory limit\n",
      "Calculating final mosaic bounds...\n"
     ]
    },
    {
     "name": "stderr",
     "output_type": "stream",
     "text": [
      "Sampling bounds:   0%|          | 0/100 [00:00<?, ?it/s]"
     ]
    },
    {
     "name": "stderr",
     "output_type": "stream",
     "text": [
      "Sampling bounds: 100%|██████████| 100/100 [00:01<00:00, 90.55it/s]\n"
     ]
    },
    {
     "name": "stdout",
     "output_type": "stream",
     "text": [
      "Processing band 1 of 13 (kernel size: 3)\n",
      "  Processing batch 1/2 (198 tiles)\n"
     ]
    },
    {
     "name": "stderr",
     "output_type": "stream",
     "text": [
      "Opening tiles: 100%|██████████| 198/198 [05:58<00:00,  1.81s/it]\n"
     ]
    },
    {
     "name": "stdout",
     "output_type": "stream",
     "text": [
      "  Processing batch 2/2 (42 tiles)\n"
     ]
    },
    {
     "name": "stderr",
     "output_type": "stream",
     "text": [
      "Opening tiles: 100%|██████████| 42/42 [01:13<00:00,  1.75s/it]\n"
     ]
    },
    {
     "name": "stdout",
     "output_type": "stream",
     "text": [
      "Processing band 2 of 13 (kernel size: 4)\n",
      "  Processing batch 1/2 (198 tiles)\n"
     ]
    },
    {
     "name": "stderr",
     "output_type": "stream",
     "text": [
      "Opening tiles: 100%|██████████| 198/198 [05:35<00:00,  1.69s/it]\n"
     ]
    },
    {
     "name": "stdout",
     "output_type": "stream",
     "text": [
      "  Processing batch 2/2 (42 tiles)\n"
     ]
    },
    {
     "name": "stderr",
     "output_type": "stream",
     "text": [
      "Opening tiles: 100%|██████████| 42/42 [01:14<00:00,  1.76s/it]\n"
     ]
    },
    {
     "name": "stdout",
     "output_type": "stream",
     "text": [
      "Processing band 3 of 13 (kernel size: 5)\n",
      "  Processing batch 1/2 (198 tiles)\n"
     ]
    },
    {
     "name": "stderr",
     "output_type": "stream",
     "text": [
      "Opening tiles: 100%|██████████| 198/198 [05:25<00:00,  1.64s/it]\n"
     ]
    },
    {
     "name": "stdout",
     "output_type": "stream",
     "text": [
      "  Processing batch 2/2 (42 tiles)\n"
     ]
    },
    {
     "name": "stderr",
     "output_type": "stream",
     "text": [
      "Opening tiles: 100%|██████████| 42/42 [01:12<00:00,  1.73s/it]\n"
     ]
    },
    {
     "name": "stdout",
     "output_type": "stream",
     "text": [
      "Processing band 4 of 13 (kernel size: 7)\n",
      "  Processing batch 1/2 (198 tiles)\n"
     ]
    },
    {
     "name": "stderr",
     "output_type": "stream",
     "text": [
      "Opening tiles: 100%|██████████| 198/198 [05:26<00:00,  1.65s/it]\n"
     ]
    },
    {
     "name": "stdout",
     "output_type": "stream",
     "text": [
      "  Processing batch 2/2 (42 tiles)\n"
     ]
    },
    {
     "name": "stderr",
     "output_type": "stream",
     "text": [
      "Opening tiles: 100%|██████████| 42/42 [01:11<00:00,  1.70s/it]\n"
     ]
    },
    {
     "name": "stdout",
     "output_type": "stream",
     "text": [
      "Processing band 5 of 13 (kernel size: 9)\n",
      "  Processing batch 1/2 (198 tiles)\n"
     ]
    },
    {
     "name": "stderr",
     "output_type": "stream",
     "text": [
      "Opening tiles: 100%|██████████| 198/198 [05:23<00:00,  1.63s/it]\n"
     ]
    },
    {
     "name": "stdout",
     "output_type": "stream",
     "text": [
      "  Processing batch 2/2 (42 tiles)\n"
     ]
    },
    {
     "name": "stderr",
     "output_type": "stream",
     "text": [
      "Opening tiles: 100%|██████████| 42/42 [01:09<00:00,  1.66s/it]\n"
     ]
    },
    {
     "name": "stdout",
     "output_type": "stream",
     "text": [
      "Processing band 6 of 13 (kernel size: 11)\n",
      "  Processing batch 1/2 (198 tiles)\n"
     ]
    },
    {
     "name": "stderr",
     "output_type": "stream",
     "text": [
      "Opening tiles: 100%|██████████| 198/198 [05:22<00:00,  1.63s/it]\n"
     ]
    },
    {
     "name": "stdout",
     "output_type": "stream",
     "text": [
      "  Processing batch 2/2 (42 tiles)\n"
     ]
    },
    {
     "name": "stderr",
     "output_type": "stream",
     "text": [
      "Opening tiles: 100%|██████████| 42/42 [01:11<00:00,  1.71s/it]\n"
     ]
    },
    {
     "name": "stdout",
     "output_type": "stream",
     "text": [
      "Processing band 7 of 13 (kernel size: 15)\n",
      "  Processing batch 1/2 (198 tiles)\n"
     ]
    },
    {
     "name": "stderr",
     "output_type": "stream",
     "text": [
      "Opening tiles: 100%|██████████| 198/198 [05:23<00:00,  1.63s/it]\n"
     ]
    },
    {
     "name": "stdout",
     "output_type": "stream",
     "text": [
      "  Processing batch 2/2 (42 tiles)\n"
     ]
    },
    {
     "name": "stderr",
     "output_type": "stream",
     "text": [
      "Opening tiles: 100%|██████████| 42/42 [01:12<00:00,  1.72s/it]\n"
     ]
    },
    {
     "name": "stdout",
     "output_type": "stream",
     "text": [
      "Processing band 8 of 13 (kernel size: 19)\n",
      "  Processing batch 1/2 (198 tiles)\n"
     ]
    },
    {
     "name": "stderr",
     "output_type": "stream",
     "text": [
      "Opening tiles: 100%|██████████| 198/198 [05:26<00:00,  1.65s/it]\n"
     ]
    },
    {
     "name": "stdout",
     "output_type": "stream",
     "text": [
      "  Processing batch 2/2 (42 tiles)\n"
     ]
    },
    {
     "name": "stderr",
     "output_type": "stream",
     "text": [
      "Opening tiles: 100%|██████████| 42/42 [01:10<00:00,  1.68s/it]\n"
     ]
    },
    {
     "name": "stdout",
     "output_type": "stream",
     "text": [
      "Processing band 9 of 13 (kernel size: 25)\n",
      "  Processing batch 1/2 (198 tiles)\n"
     ]
    },
    {
     "name": "stderr",
     "output_type": "stream",
     "text": [
      "Opening tiles: 100%|██████████| 198/198 [05:27<00:00,  1.66s/it]\n"
     ]
    },
    {
     "name": "stdout",
     "output_type": "stream",
     "text": [
      "  Processing batch 2/2 (42 tiles)\n"
     ]
    },
    {
     "name": "stderr",
     "output_type": "stream",
     "text": [
      "Opening tiles: 100%|██████████| 42/42 [01:13<00:00,  1.75s/it]\n"
     ]
    },
    {
     "name": "stdout",
     "output_type": "stream",
     "text": [
      "Processing band 10 of 13 (kernel size: 31)\n",
      "  Processing batch 1/2 (198 tiles)\n"
     ]
    },
    {
     "name": "stderr",
     "output_type": "stream",
     "text": [
      "Opening tiles: 100%|██████████| 198/198 [05:32<00:00,  1.68s/it]\n"
     ]
    },
    {
     "name": "stdout",
     "output_type": "stream",
     "text": [
      "  Processing batch 2/2 (42 tiles)\n"
     ]
    },
    {
     "name": "stderr",
     "output_type": "stream",
     "text": [
      "Opening tiles: 100%|██████████| 42/42 [01:12<00:00,  1.72s/it]\n"
     ]
    },
    {
     "name": "stdout",
     "output_type": "stream",
     "text": [
      "Processing band 11 of 13 (kernel size: 43)\n",
      "  Processing batch 1/2 (198 tiles)\n"
     ]
    },
    {
     "name": "stderr",
     "output_type": "stream",
     "text": [
      "Opening tiles: 100%|██████████| 198/198 [05:33<00:00,  1.69s/it]\n"
     ]
    },
    {
     "name": "stdout",
     "output_type": "stream",
     "text": [
      "  Processing batch 2/2 (42 tiles)\n"
     ]
    },
    {
     "name": "stderr",
     "output_type": "stream",
     "text": [
      "Opening tiles: 100%|██████████| 42/42 [01:11<00:00,  1.71s/it]\n"
     ]
    },
    {
     "name": "stdout",
     "output_type": "stream",
     "text": [
      "Processing band 12 of 13 (kernel size: 55)\n",
      "  Processing batch 1/2 (198 tiles)\n"
     ]
    },
    {
     "name": "stderr",
     "output_type": "stream",
     "text": [
      "Opening tiles: 100%|██████████| 198/198 [05:31<00:00,  1.68s/it]\n"
     ]
    },
    {
     "name": "stdout",
     "output_type": "stream",
     "text": [
      "  Processing batch 2/2 (42 tiles)\n"
     ]
    },
    {
     "name": "stderr",
     "output_type": "stream",
     "text": [
      "Opening tiles: 100%|██████████| 42/42 [01:11<00:00,  1.71s/it]\n"
     ]
    },
    {
     "name": "stdout",
     "output_type": "stream",
     "text": [
      "Processing band 13 of 13 (kernel size: 75)\n",
      "  Processing batch 1/2 (198 tiles)\n"
     ]
    },
    {
     "name": "stderr",
     "output_type": "stream",
     "text": [
      "Opening tiles: 100%|██████████| 198/198 [05:33<00:00,  1.69s/it]\n"
     ]
    },
    {
     "name": "stdout",
     "output_type": "stream",
     "text": [
      "  Processing batch 2/2 (42 tiles)\n"
     ]
    },
    {
     "name": "stderr",
     "output_type": "stream",
     "text": [
      "Opening tiles: 100%|██████████| 42/42 [01:12<00:00,  1.74s/it]\n"
     ]
    },
    {
     "name": "stdout",
     "output_type": "stream",
     "text": [
      "Mosaic successfully created: /mnt/holuhraun/t5_dsm_50cm_complexity_tiles/t5_dsm_50cm_complexity_mosaic.tif\n",
      "Dimensions: 22123x24074, 13 bands\n"
     ]
    },
    {
     "data": {
      "text/plain": [
       "'/mnt/holuhraun/t5_dsm_50cm_complexity_tiles/t5_dsm_50cm_complexity_mosaic.tif'"
      ]
     },
     "execution_count": 6,
     "metadata": {},
     "output_type": "execute_result"
    }
   ],
   "source": [
    "# output_path='/mnt/nili_e/Software/fractal_complexity/data/Jezero_HiRISE_complexity_mosaic/complexity_mosaic.tif'\n",
    "tc_processor.create_mosaic(output_path='/mnt/holuhraun/t5_dsm_50cm_complexity_tiles/t5_dsm_50cm_complexity_mosaic.tif')"
   ]
  }
 ],
 "metadata": {
  "kernelspec": {
   "display_name": "complex",
   "language": "python",
   "name": "python3"
  },
  "language_info": {
   "codemirror_mode": {
    "name": "ipython",
    "version": 3
   },
   "file_extension": ".py",
   "mimetype": "text/x-python",
   "name": "python",
   "nbconvert_exporter": "python",
   "pygments_lexer": "ipython3",
   "version": "3.13.2"
  }
 },
 "nbformat": 4,
 "nbformat_minor": 2
}
